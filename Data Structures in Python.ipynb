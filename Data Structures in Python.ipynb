{
 "cells": [
  {
   "cell_type": "markdown",
   "metadata": {},
   "source": [
    "# Why Data Structures?\n",
    "\n",
    "Python has been used worldwide for different fields such as making websites, artificial intelligence and much more. But to make all of this possible, data plays a very important role which means that this data should be stored efficiently and the access to it must be timely. So how do you achieve this? We use something called Data Structures. With that being said, let us go through the topics we will cover in Data Structures in Python. "
   ]
  },
  {
   "cell_type": "markdown",
   "metadata": {},
   "source": [
    "## What is Data Structures?\n",
    "\n",
    "Organizing, managing and storing data is important as it enables easier access and efficient modifications. Data Structures allows you to organize your data in such a way that enables you to store collections of data, relate them and perform operations on them accordingly.\n",
    "\n",
    "## Types of Data Structures:-\n",
    "\n",
    "Python has implicit support for Data Structures which enable you to store and access data.Different types of data structures:-\n",
    "\n",
    "1. Lists\n",
    "2. Dictionary\n",
    "3. Tuples\n",
    "4. Sets\n",
    "\n",
    "The afforementioned Data Structures are built-in with Python which makes programming easier and helps programmers use them to obtain solutions faster. Let’s discuss each of them in detail."
   ]
  },
  {
   "cell_type": "markdown",
   "metadata": {},
   "source": [
    "## List: \n",
    "\n",
    "Lists are used to store data of different data types in a sequential manner. There are addresses assigned to every element of the list, which is called as Index. The index value starts from 0 and goes on until the last element called the positive index. There is also negative indexing which starts from -1 enabling you to access elements from the last to first. Let us now understand lists better with the help of an example program.\n",
    "\n"
   ]
  },
  {
   "cell_type": "markdown",
   "metadata": {},
   "source": [
    "### Creating a List:\n",
    "\n",
    "To create a list, you use the square brackets and add elements into it accordingly. If you do not pass any elements inside the square brackets, you get an empty list as the output."
   ]
  },
  {
   "cell_type": "code",
   "execution_count": 1,
   "metadata": {},
   "outputs": [
    {
     "name": "stdout",
     "output_type": "stream",
     "text": [
      "[]\n",
      "[1, 2, 3, 'example', 3.132]\n"
     ]
    }
   ],
   "source": [
    "new_list = [] #create empty list\n",
    "print(new_list)\n",
    "new_list = [1, 2, 3, 'example', 3.132] #creating list with data\n",
    "print(new_list)"
   ]
  },
  {
   "cell_type": "markdown",
   "metadata": {},
   "source": [
    "### Adding elements to a list:\n",
    "\n",
    "Adding the elements in the list can be achieved using the append(), extend() and insert() functions.\n",
    "\n",
    "- The append() function adds all the elements passed to it as a single element.\n",
    "- The extend() function adds the elements one-by-one into the list.\n",
    "- The insert() function adds the element passed to the index value and increase the size of the list too."
   ]
  },
  {
   "cell_type": "code",
   "execution_count": 2,
   "metadata": {},
   "outputs": [
    {
     "name": "stdout",
     "output_type": "stream",
     "text": [
      "[1, 2, 3]\n",
      "[1, 2, 3, [555, 12]]\n",
      "[1, 2, 3, [555, 12], 234, 'more_example']\n",
      "[1, 'insert_example', 2, 3, [555, 12], 234, 'more_example']\n"
     ]
    }
   ],
   "source": [
    "new_list = [1, 2, 3]\n",
    "print(new_list)\n",
    "\n",
    "#add as a single element\n",
    "new_list.append([555, 12]) \n",
    "print(new_list)\n",
    "\n",
    "#add as different elements\n",
    "new_list.extend([234, 'more_example'])\n",
    "print(new_list)\n",
    "\n",
    "#add element i\n",
    "new_list.insert(1, 'insert_example') \n",
    "print(new_list)"
   ]
  },
  {
   "cell_type": "markdown",
   "metadata": {},
   "source": [
    "### Deleting Elements from a list:\n",
    "\n",
    "- To delete elements, use the del keyword which is built-in into Python but this does not return anything back to us.\n",
    "- If you want the element back, you use the pop() function which takes the index value.\n",
    "- To remove an element by its value, you use the remove() function."
   ]
  },
  {
   "cell_type": "code",
   "execution_count": 3,
   "metadata": {},
   "outputs": [
    {
     "name": "stdout",
     "output_type": "stream",
     "text": [
      "[1, 2, 3, 'example', 300, 30]\n",
      "[1, 2, 3, 300, 30]\n",
      "Popped Element:  2  List remaining:  [1, 3, 300, 30]\n",
      "[]\n"
     ]
    }
   ],
   "source": [
    "new_list = [1, 2, 3, 'example', 300, 10, 30]\n",
    "\n",
    "#delete element at index 5\n",
    "del new_list[5] \n",
    "print(new_list)\n",
    "\n",
    "#remove element with value\n",
    "new_list.remove('example') \n",
    "print(new_list)\n",
    "\n",
    "#pop element from list\n",
    "a = new_list.pop(1) \n",
    "print('Popped Element: ', a, ' List remaining: ', new_list)\n",
    "\n",
    "#empty the list\n",
    "new_list.clear() \n",
    "print(new_list)"
   ]
  },
  {
   "cell_type": "markdown",
   "metadata": {},
   "source": [
    "### Accessing the elements:\n",
    "\n",
    "Accessing elements is the same as accessing Strings in Python. You pass the index values and hence can obtain the values as needed."
   ]
  },
  {
   "cell_type": "code",
   "execution_count": 4,
   "metadata": {},
   "outputs": [
    {
     "name": "stdout",
     "output_type": "stream",
     "text": [
      "1\n",
      "2\n",
      "3\n",
      "example\n",
      "3.132\n",
      "10\n",
      "30\n",
      "[1, 2, 3, 'example', 3.132, 10, 30]\n",
      "example\n",
      "[1, 2]\n",
      "[30, 10, 3.132, 'example', 3, 2, 1]\n"
     ]
    }
   ],
   "source": [
    "new_list = [1, 2, 3, 'example', 3.132, 10, 30]\n",
    "\n",
    "#access elements one by one\n",
    "for element in new_list: \n",
    "    print(element)\n",
    "\n",
    "#access all elements\n",
    "print(new_list) \n",
    "\n",
    "#access index 3 element\n",
    "print(new_list[3]) \n",
    "\n",
    "#access elements from 0 to 1 and exclude 2\n",
    "print(new_list[0:2]) \n",
    "\n",
    "#access elements in reverse\n",
    "print(new_list[::-1]) "
   ]
  },
  {
   "cell_type": "markdown",
   "metadata": {},
   "source": [
    "## Dictionaries:\n",
    "\n",
    "Dictionaries are used to store key-value pairs. To understand better, think of a phone directory where hundreds and thousands of names and their corresponding numbers have been added. Now the constant values here are Name and the Phone Numbers which are called as the keys. And the various names and phone numbers are the values that have been fed to the keys. If you access the values of the keys, you will obtain all the names and phone numbers. So that is what a key-value pair is. And in Python, this structure is stored using Dictionaries. Let us understand this better with an example program."
   ]
  },
  {
   "cell_type": "markdown",
   "metadata": {},
   "source": [
    "### Creating a Dictionary:\n",
    "\n",
    "Dictionaries can be created using the flower braces or using the dict() function. You need to add the key-value pairs whenever you work with dictionaries."
   ]
  },
  {
   "cell_type": "code",
   "execution_count": 5,
   "metadata": {},
   "outputs": [
    {
     "name": "stdout",
     "output_type": "stream",
     "text": [
      "{}\n",
      "{1: 'Python', 2: 'R'}\n"
     ]
    }
   ],
   "source": [
    "#empty dictionary\n",
    "new_dict = {} \n",
    "print(new_dict)\n",
    "\n",
    "#dictionary with elements\n",
    "new_dict = {1: 'Python', 2: 'R'} \n",
    "print(new_dict)"
   ]
  },
  {
   "cell_type": "markdown",
   "metadata": {},
   "source": [
    "### Changing and adding key,value pairs:\n",
    "\n",
    "To change the values of the dictionary, you need to do that using the keys. So, you firstly access the key and then change the value accordingly. To add values, you simply just add another key-value pair as shown below."
   ]
  },
  {
   "cell_type": "code",
   "execution_count": 6,
   "metadata": {},
   "outputs": [
    {
     "name": "stdout",
     "output_type": "stream",
     "text": [
      "{'First': 'Python', 'Second': 'Java'}\n",
      "{'First': 'Python', 'Second': 'C++'}\n",
      "{'First': 'Python', 'Second': 'C++', 'Third': 'R'}\n"
     ]
    }
   ],
   "source": [
    "new_dict = {'First': 'Python', 'Second': 'Java'}\n",
    "print(new_dict)\n",
    "\n",
    "#changing element\n",
    "new_dict['Second'] = 'C++' \n",
    "print(new_dict)\n",
    "\n",
    "#adding key-value pair\n",
    "new_dict['Third'] = 'R' \n",
    "print(new_dict)"
   ]
  },
  {
   "cell_type": "markdown",
   "metadata": {},
   "source": [
    "### Deleting key value pairs:\n",
    "\n",
    "- To delete the values, you use the pop() function which returns the value that has been deleted.\n",
    "- To retrieve the key-value pair, you use the popitem() function which returns a tuple of the key and value.\n",
    "- To clear the entire dictionary, you use the clear() function."
   ]
  },
  {
   "cell_type": "code",
   "execution_count": 7,
   "metadata": {},
   "outputs": [
    {
     "name": "stdout",
     "output_type": "stream",
     "text": [
      "Value: Ruby\n",
      "Dictionary: {'First': 'Python', 'Second': 'Java'}\n",
      "Key, value pair: ('Second', 'Java')\n",
      "Dictionary {'First': 'Python'}\n",
      "n {}\n"
     ]
    }
   ],
   "source": [
    "new_dict = {'First': 'Python', 'Second': 'Java', 'Third': 'Ruby'}\n",
    "\n",
    "#pop element\n",
    "a = new_dict.pop('Third') \n",
    "print('Value:', a)\n",
    "print('Dictionary:', new_dict)\n",
    "\n",
    "#pop the key-value pair\n",
    "b = new_dict.popitem() \n",
    "print('Key, value pair:', b)\n",
    "print('Dictionary', new_dict)\n",
    "\n",
    "\n",
    "new_dict.clear() \n",
    "print('n', new_dict)"
   ]
  },
  {
   "cell_type": "markdown",
   "metadata": {},
   "source": [
    "### Accessing elements:\n",
    "\n",
    "You can access elements using the keys only. You can use either the get() function or just pass the key values and you will be retrieving the values."
   ]
  },
  {
   "cell_type": "code",
   "execution_count": 8,
   "metadata": {},
   "outputs": [
    {
     "name": "stdout",
     "output_type": "stream",
     "text": [
      "Python\n",
      "Java\n"
     ]
    }
   ],
   "source": [
    "new_dict = {'First': 'Python', 'Second': 'Java'}\n",
    "\n",
    "#access elements using keys\n",
    "print(new_dict['First']) \n",
    "print(new_dict.get('Second'))"
   ]
  },
  {
   "cell_type": "markdown",
   "metadata": {},
   "source": [
    "## Tuple:\n",
    "\n",
    "Tuples are the same as lists are with the exception that the data once entered into the tuple cannot be changed no matter what. The only exception is when the data inside the tuple is mutable, only then the tuple data can be changed. The example program will help you understand better."
   ]
  },
  {
   "cell_type": "markdown",
   "metadata": {},
   "source": [
    "### Creating a Tuple:\n",
    "\n",
    "You create a tuple using parenthesis or using the tuple() function."
   ]
  },
  {
   "cell_type": "code",
   "execution_count": 9,
   "metadata": {},
   "outputs": [
    {
     "name": "stdout",
     "output_type": "stream",
     "text": [
      "(1, 2, 3)\n"
     ]
    }
   ],
   "source": [
    "#create tuple\n",
    "new_tuple = (1, 2, 3) \n",
    "print(new_tuple)"
   ]
  },
  {
   "cell_type": "markdown",
   "metadata": {},
   "source": [
    "### Accessing elements:\n",
    "\n",
    "Accessing elements is the same as it is for accessing values in lists.\n"
   ]
  },
  {
   "cell_type": "code",
   "execution_count": 1,
   "metadata": {},
   "outputs": [
    {
     "name": "stdout",
     "output_type": "stream",
     "text": [
      "1\n",
      "2\n",
      "3\n",
      "(1, 2, 3)\n",
      "1\n",
      "(1, 2, 3)\n"
     ]
    }
   ],
   "source": [
    "#access elements\n",
    "new_tuple = (1, 2, 3) \n",
    "for x in new_tuple:\n",
    "    print(x)\n",
    "    \n",
    "print(new_tuple)\n",
    "print(new_tuple[0])\n",
    "print(new_tuple[:])\n"
   ]
  },
  {
   "cell_type": "markdown",
   "metadata": {},
   "source": [
    "### Appending Elements:\n",
    "\n",
    "To append the values, you use the ‘+’ operator which will take another tuple to be appended to it."
   ]
  },
  {
   "cell_type": "code",
   "execution_count": 2,
   "metadata": {},
   "outputs": [
    {
     "name": "stdout",
     "output_type": "stream",
     "text": [
      "(1, 2, 3, 4, 5, 6)\n"
     ]
    }
   ],
   "source": [
    "new_tuple = (1, 2, 3)\n",
    "\n",
    "#add elements\n",
    "new_tuple = new_tuple + (4, 5, 6) \n",
    "print(new_tuple)"
   ]
  },
  {
   "cell_type": "markdown",
   "metadata": {},
   "source": [
    "## Sets:\n",
    "\n",
    "Sets are a collection of unordered elements that are unique. Meaning that even if the data is repeated more than one time, it would be entered into the set only once. It resembles the sets that you have learnt in arithmetic. The operations also are the same as is with the arithmetic sets. An example program would help you understand better."
   ]
  },
  {
   "cell_type": "markdown",
   "metadata": {},
   "source": [
    "### Creating a set:\n",
    "\n",
    "Sets are created using the flower braces but instead of adding key-value pairs, you just pass values to it.\n",
    "\n"
   ]
  },
  {
   "cell_type": "code",
   "execution_count": 12,
   "metadata": {},
   "outputs": [
    {
     "name": "stdout",
     "output_type": "stream",
     "text": [
      "{1, 2, 3, 4, 5}\n"
     ]
    }
   ],
   "source": [
    " #create set\n",
    "new_set = {1, 2, 3, 4, 5, 5, 5}\n",
    "print(new_set)"
   ]
  },
  {
   "cell_type": "markdown",
   "metadata": {},
   "source": [
    "### Adding Element:\n",
    "\n",
    "To add elements, you use the add() function and pass the value to it."
   ]
  },
  {
   "cell_type": "code",
   "execution_count": 13,
   "metadata": {},
   "outputs": [
    {
     "name": "stdout",
     "output_type": "stream",
     "text": [
      "{1, 2, 3, 4}\n"
     ]
    }
   ],
   "source": [
    "new_set = {1, 2, 3}\n",
    "\n",
    "#add element to set\n",
    "new_set.add(4) \n",
    "print(new_set)"
   ]
  },
  {
   "cell_type": "markdown",
   "metadata": {},
   "source": [
    "## For more information on above topics you can click on the below link:\n",
    "\n",
    "<br>lists:https://thatware.co/docs.python.org/3/tutorial/datastructures.html\n",
    "<br>tupples:https://docs.python.org/3/tutorial/datastructures.html#tuples-and-sequences\n",
    "<br>dictionary:https://docs.python.org/3/tutorial/datastructures.html#dictionaries\n",
    "<br>sets:https://docs.python.org/3/tutorial/datastructures.html#sets"
   ]
  }
 ],
 "metadata": {
  "kernelspec": {
   "display_name": "Python 3",
   "language": "python",
   "name": "python3"
  },
  "language_info": {
   "codemirror_mode": {
    "name": "ipython",
    "version": 3
   },
   "file_extension": ".py",
   "mimetype": "text/x-python",
   "name": "python",
   "nbconvert_exporter": "python",
   "pygments_lexer": "ipython3",
   "version": "3.7.4"
  }
 },
 "nbformat": 4,
 "nbformat_minor": 2
}
